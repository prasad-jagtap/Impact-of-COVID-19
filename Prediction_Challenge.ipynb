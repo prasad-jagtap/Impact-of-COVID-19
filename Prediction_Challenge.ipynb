{
 "cells": [
  {
   "cell_type": "markdown",
   "metadata": {
    "id": "yav6a3FiXREg"
   },
   "source": [
    "# **42577 - Introduction to Business Analytics**\n",
    "\n",
    "**Author:** *Chao Yu(s200079), Maria Konstantina Papaioannou(s195550), Shubham Ingole(s200092), Prasad Jagtap(s200109)*\n"
   ]
  },
  {
   "cell_type": "markdown",
   "metadata": {
    "id": "wN2rEIXR0-nX"
   },
   "source": [
    "# Project structure and components\n",
    "\n",
    "> 1. Prediction Challenge \n",
    "2.   Exploratory Analysis\n"
   ]
  },
  {
   "cell_type": "markdown",
   "metadata": {
    "id": "o7FoQ4lqgdiO"
   },
   "source": [
    "#  Prediction Challenge"
   ]
  },
  {
   "cell_type": "markdown",
   "metadata": {
    "id": "qF4UtdBV07tz"
   },
   "source": [
    "# **Content :**\n",
    "\n",
    "\n",
    "\n",
    "1.   **Data preparation, Processing and cleaning**\n",
    "\n",
    ">1.   Data Loading\n",
    "2.    Identifing column data types\n",
    "3.    Excluding Irrelevant Columns\n",
    "4.    Rename Columns \n",
    "5.    Handling Missing Values\n",
    "6.    Creating Continent column\n",
    "\n",
    "2.   **Prediction challenge**\n",
    "     \n",
    ">1.   PCA Analysis\n",
    "2.   Prediction challenge Part-1\n",
    "3.   Prediction challenge Part-2\n"
   ]
  },
  {
   "cell_type": "code",
   "execution_count": 1,
   "metadata": {
    "colab": {
     "base_uri": "https://localhost:8080/"
    },
    "id": "cuFLZBwLvkod",
    "outputId": "56a3d2a7-4501-4860-c5e8-9dffbdb0703a"
   },
   "outputs": [
    {
     "name": "stdout",
     "output_type": "stream",
     "text": [
      "Requirement already satisfied: pycountry_convert in c:\\users\\shubham ingole\\anaconda3\\lib\\site-packages (0.7.2)\n",
      "Requirement already satisfied: pytest>=3.4.0 in c:\\users\\shubham ingole\\anaconda3\\lib\\site-packages (from pycountry_convert) (5.2.1)\n",
      "Requirement already satisfied: repoze.lru>=0.7 in c:\\users\\shubham ingole\\anaconda3\\lib\\site-packages (from pycountry_convert) (0.7)\n",
      "Requirement already satisfied: wheel>=0.30.0 in c:\\users\\shubham ingole\\anaconda3\\lib\\site-packages (from pycountry_convert) (0.35.1)\n",
      "Requirement already satisfied: pycountry>=16.11.27.1 in c:\\users\\shubham ingole\\anaconda3\\lib\\site-packages (from pycountry_convert) (20.7.3)\n",
      "Requirement already satisfied: pytest-mock>=1.6.3 in c:\\users\\shubham ingole\\anaconda3\\lib\\site-packages (from pycountry_convert) (3.3.1)\n",
      "Requirement already satisfied: pprintpp>=0.3.0 in c:\\users\\shubham ingole\\anaconda3\\lib\\site-packages (from pycountry_convert) (0.4.0)\n",
      "Requirement already satisfied: pytest-cov>=2.5.1 in c:\\users\\shubham ingole\\anaconda3\\lib\\site-packages (from pycountry_convert) (2.10.1)\n",
      "Requirement already satisfied: py>=1.5.0 in c:\\users\\shubham ingole\\anaconda3\\lib\\site-packages (from pytest>=3.4.0->pycountry_convert) (1.8.0)\n",
      "Requirement already satisfied: packaging in c:\\users\\shubham ingole\\anaconda3\\lib\\site-packages (from pytest>=3.4.0->pycountry_convert) (19.2)\n",
      "Requirement already satisfied: attrs>=17.4.0 in c:\\users\\shubham ingole\\anaconda3\\lib\\site-packages (from pytest>=3.4.0->pycountry_convert) (19.2.0)\n",
      "Requirement already satisfied: more-itertools>=4.0.0 in c:\\users\\shubham ingole\\anaconda3\\lib\\site-packages (from pytest>=3.4.0->pycountry_convert) (7.2.0)\n",
      "Requirement already satisfied: atomicwrites>=1.0 in c:\\users\\shubham ingole\\anaconda3\\lib\\site-packages (from pytest>=3.4.0->pycountry_convert) (1.3.0)\n",
      "Requirement already satisfied: pluggy<1.0,>=0.12 in c:\\users\\shubham ingole\\anaconda3\\lib\\site-packages (from pytest>=3.4.0->pycountry_convert) (0.13.0)\n",
      "Requirement already satisfied: wcwidth in c:\\users\\shubham ingole\\anaconda3\\lib\\site-packages (from pytest>=3.4.0->pycountry_convert) (0.1.7)\n",
      "Requirement already satisfied: importlib-metadata>=0.12 in c:\\users\\shubham ingole\\anaconda3\\lib\\site-packages (from pytest>=3.4.0->pycountry_convert) (0.23)\n",
      "Requirement already satisfied: colorama in c:\\users\\shubham ingole\\anaconda3\\lib\\site-packages (from pytest>=3.4.0->pycountry_convert) (0.4.1)\n",
      "Requirement already satisfied: coverage>=4.4 in c:\\users\\shubham ingole\\anaconda3\\lib\\site-packages (from pytest-cov>=2.5.1->pycountry_convert) (5.3)\n",
      "Requirement already satisfied: pyparsing>=2.0.2 in c:\\users\\shubham ingole\\anaconda3\\lib\\site-packages (from packaging->pytest>=3.4.0->pycountry_convert) (2.4.2)\n",
      "Requirement already satisfied: six in c:\\users\\shubham ingole\\anaconda3\\lib\\site-packages (from packaging->pytest>=3.4.0->pycountry_convert) (1.12.0)\n",
      "Requirement already satisfied: zipp>=0.5 in c:\\users\\shubham ingole\\anaconda3\\lib\\site-packages (from importlib-metadata>=0.12->pytest>=3.4.0->pycountry_convert) (0.6.0)\n"
     ]
    },
    {
     "name": "stderr",
     "output_type": "stream",
     "text": [
      "WARNING: You are using pip version 20.2.4; however, version 20.3.1 is available.\n",
      "You should consider upgrading via the 'c:\\users\\shubham ingole\\anaconda3\\python.exe -m pip install --upgrade pip' command.\n"
     ]
    }
   ],
   "source": [
    "!pip install pycountry_convert\n",
    "\n",
    "#Using country data derived from wikipedia, this package provides conversion functions between ISO country names, \n",
    "#country-codes, and continent names"
   ]
  },
  {
   "cell_type": "code",
   "execution_count": 2,
   "metadata": {
    "id": "V5jRFSOqhwIM"
   },
   "outputs": [],
   "source": [
    "#import required packages\n",
    "\n",
    "import io\n",
    "import numpy as np\n",
    "import pandas as pd\n",
    "import matplotlib.pyplot as plt\n",
    "from sklearn.linear_model import LinearRegression\n",
    "from sklearn.model_selection import train_test_split\n",
    "from sklearn.metrics import r2_score\n",
    "from sklearn.preprocessing import MinMaxScaler\n",
    "from sklearn.metrics import mean_squared_error\n",
    "from sklearn.linear_model import ElasticNetCV, LassoCV, RidgeCV\n",
    "import pycountry_convert as pc\n",
    "from sklearn.cross_decomposition import PLSRegression\n",
    "from sklearn import decomposition\n",
    "import seaborn as sns\n",
    "import itertools\n",
    "from scipy import stats\n",
    "import plotly.express as px"
   ]
  },
  {
   "cell_type": "markdown",
   "metadata": {
    "id": "jE72Db39fych"
   },
   "source": [
    "# **1. Data Preperation, Preprocessing and Cleaning**\n"
   ]
  },
  {
   "cell_type": "markdown",
   "metadata": {
    "id": "XRXQuTXksJRi"
   },
   "source": [
    "> At the very initial stage, we wanted to take an overview of the given dataset for the `cites` and wanted to identify the different rows and columns for the associated factors in the scope of the analysis. Later, looking at the data type of each column, further, we looked into the missing values along with excluding the irrelevant data and renamed a few of them for constructive mapping and further analysis.\n",
    "\n",
    "\n"
   ]
  },
  {
   "cell_type": "markdown",
   "metadata": {
    "id": "mZWPOzAorItS"
   },
   "source": [
    "### 1.1 Data Loading\n",
    "\n",
    "Overview of the given datatset with respect to the `cities` and affecting factors causing $CO_2$ emission "
   ]
  },
  {
   "cell_type": "code",
   "execution_count": 3,
   "metadata": {
    "colab": {
     "base_uri": "https://localhost:8080/",
     "height": 394
    },
    "id": "i6_gyBmqneDn",
    "outputId": "5e9facdb-33d3-4d63-d7ca-d9b32ec20d26"
   },
   "outputs": [
    {
     "data": {
      "text/html": [
       "<div>\n",
       "<style scoped>\n",
       "    .dataframe tbody tr th:only-of-type {\n",
       "        vertical-align: middle;\n",
       "    }\n",
       "\n",
       "    .dataframe tbody tr th {\n",
       "        vertical-align: top;\n",
       "    }\n",
       "\n",
       "    .dataframe thead th {\n",
       "        text-align: right;\n",
       "    }\n",
       "</style>\n",
       "<table border=\"1\" class=\"dataframe\">\n",
       "  <thead>\n",
       "    <tr style=\"text-align: right;\">\n",
       "      <th></th>\n",
       "      <th>Unnamed: 0</th>\n",
       "      <th>City</th>\n",
       "      <th>cityID</th>\n",
       "      <th>clusterID</th>\n",
       "      <th>Typology</th>\n",
       "      <th>Country</th>\n",
       "      <th>Car Modeshare (%)</th>\n",
       "      <th>Public Transit Modeshare (%)</th>\n",
       "      <th>Bicycle Modeshare (%)</th>\n",
       "      <th>Walking Modeshare (%)</th>\n",
       "      <th>...</th>\n",
       "      <th>Highway Proportion</th>\n",
       "      <th>Metro Propensity Factor</th>\n",
       "      <th>BRT Propensity Factor</th>\n",
       "      <th>BikeShare Propensity Factor</th>\n",
       "      <th>Development Factor</th>\n",
       "      <th>Sustainability Factor</th>\n",
       "      <th>Population Factor</th>\n",
       "      <th>Congestion Factor</th>\n",
       "      <th>Sprawl Factor</th>\n",
       "      <th>Network Density Factor</th>\n",
       "    </tr>\n",
       "  </thead>\n",
       "  <tbody>\n",
       "    <tr>\n",
       "      <td>0</td>\n",
       "      <td>284</td>\n",
       "      <td>Baltimore(MD)</td>\n",
       "      <td>285</td>\n",
       "      <td>7</td>\n",
       "      <td>Auto Sprawl</td>\n",
       "      <td>United States</td>\n",
       "      <td>85.0</td>\n",
       "      <td>6.1</td>\n",
       "      <td>0.3</td>\n",
       "      <td>2.6</td>\n",
       "      <td>...</td>\n",
       "      <td>0.041018</td>\n",
       "      <td>0.160848</td>\n",
       "      <td>0.176867</td>\n",
       "      <td>0.360637</td>\n",
       "      <td>0.796264</td>\n",
       "      <td>0.355964</td>\n",
       "      <td>0.081956</td>\n",
       "      <td>0.180085</td>\n",
       "      <td>0.722163</td>\n",
       "      <td>0.425187</td>\n",
       "    </tr>\n",
       "    <tr>\n",
       "      <td>1</td>\n",
       "      <td>9</td>\n",
       "      <td>Melbourne</td>\n",
       "      <td>10</td>\n",
       "      <td>8</td>\n",
       "      <td>Auto Innovative</td>\n",
       "      <td>Australia</td>\n",
       "      <td>80.0</td>\n",
       "      <td>14.0</td>\n",
       "      <td>2</td>\n",
       "      <td>4.0</td>\n",
       "      <td>...</td>\n",
       "      <td>0.014489</td>\n",
       "      <td>0.060387</td>\n",
       "      <td>0.168335</td>\n",
       "      <td>0.363675</td>\n",
       "      <td>0.786174</td>\n",
       "      <td>0.397894</td>\n",
       "      <td>0.082267</td>\n",
       "      <td>0.333173</td>\n",
       "      <td>0.539355</td>\n",
       "      <td>0.558910</td>\n",
       "    </tr>\n",
       "    <tr>\n",
       "      <td>2</td>\n",
       "      <td>185</td>\n",
       "      <td>Niamey</td>\n",
       "      <td>186</td>\n",
       "      <td>1</td>\n",
       "      <td>Congested Emerging</td>\n",
       "      <td>Niger</td>\n",
       "      <td>NaN</td>\n",
       "      <td>9.0</td>\n",
       "      <td>2</td>\n",
       "      <td>60.0</td>\n",
       "      <td>...</td>\n",
       "      <td>0.000000</td>\n",
       "      <td>0.036220</td>\n",
       "      <td>0.010915</td>\n",
       "      <td>0.343161</td>\n",
       "      <td>0.000000</td>\n",
       "      <td>0.273646</td>\n",
       "      <td>0.248398</td>\n",
       "      <td>0.655464</td>\n",
       "      <td>0.275605</td>\n",
       "      <td>0.410312</td>\n",
       "    </tr>\n",
       "    <tr>\n",
       "      <td>3</td>\n",
       "      <td>327</td>\n",
       "      <td>Hanoi</td>\n",
       "      <td>328</td>\n",
       "      <td>12</td>\n",
       "      <td>MetroBike Emerging</td>\n",
       "      <td>Vietnam</td>\n",
       "      <td>8.0</td>\n",
       "      <td>10.0</td>\n",
       "      <td>2</td>\n",
       "      <td>NaN</td>\n",
       "      <td>...</td>\n",
       "      <td>0.022938</td>\n",
       "      <td>0.078028</td>\n",
       "      <td>0.084511</td>\n",
       "      <td>0.358868</td>\n",
       "      <td>0.157676</td>\n",
       "      <td>0.509057</td>\n",
       "      <td>0.292564</td>\n",
       "      <td>0.624623</td>\n",
       "      <td>0.666710</td>\n",
       "      <td>0.239113</td>\n",
       "    </tr>\n",
       "    <tr>\n",
       "      <td>4</td>\n",
       "      <td>66</td>\n",
       "      <td>Urumqi</td>\n",
       "      <td>67</td>\n",
       "      <td>12</td>\n",
       "      <td>MetroBike Emerging</td>\n",
       "      <td>China</td>\n",
       "      <td>21.7</td>\n",
       "      <td>54.7</td>\n",
       "      <td>NaN</td>\n",
       "      <td>NaN</td>\n",
       "      <td>...</td>\n",
       "      <td>0.060128</td>\n",
       "      <td>0.103334</td>\n",
       "      <td>0.447261</td>\n",
       "      <td>0.392551</td>\n",
       "      <td>0.287235</td>\n",
       "      <td>0.801464</td>\n",
       "      <td>0.322960</td>\n",
       "      <td>0.586019</td>\n",
       "      <td>0.791822</td>\n",
       "      <td>0.075617</td>\n",
       "    </tr>\n",
       "  </tbody>\n",
       "</table>\n",
       "<p>5 rows × 79 columns</p>\n",
       "</div>"
      ],
      "text/plain": [
       "   Unnamed: 0           City  cityID  clusterID            Typology  \\\n",
       "0         284  Baltimore(MD)     285          7         Auto Sprawl   \n",
       "1           9      Melbourne      10          8     Auto Innovative   \n",
       "2         185         Niamey     186          1  Congested Emerging   \n",
       "3         327          Hanoi     328         12  MetroBike Emerging   \n",
       "4          66         Urumqi      67         12  MetroBike Emerging   \n",
       "\n",
       "         Country  Car Modeshare (%)  Public Transit Modeshare (%)  \\\n",
       "0  United States               85.0                           6.1   \n",
       "1      Australia               80.0                          14.0   \n",
       "2          Niger                NaN                           9.0   \n",
       "3        Vietnam                8.0                          10.0   \n",
       "4          China               21.7                          54.7   \n",
       "\n",
       "  Bicycle Modeshare (%)  Walking Modeshare (%)  ...  Highway Proportion  \\\n",
       "0                   0.3                    2.6  ...            0.041018   \n",
       "1                     2                    4.0  ...            0.014489   \n",
       "2                     2                   60.0  ...            0.000000   \n",
       "3                     2                    NaN  ...            0.022938   \n",
       "4                   NaN                    NaN  ...            0.060128   \n",
       "\n",
       "   Metro Propensity Factor  BRT Propensity Factor  \\\n",
       "0                 0.160848               0.176867   \n",
       "1                 0.060387               0.168335   \n",
       "2                 0.036220               0.010915   \n",
       "3                 0.078028               0.084511   \n",
       "4                 0.103334               0.447261   \n",
       "\n",
       "   BikeShare Propensity Factor  Development Factor  Sustainability Factor  \\\n",
       "0                     0.360637            0.796264               0.355964   \n",
       "1                     0.363675            0.786174               0.397894   \n",
       "2                     0.343161            0.000000               0.273646   \n",
       "3                     0.358868            0.157676               0.509057   \n",
       "4                     0.392551            0.287235               0.801464   \n",
       "\n",
       "   Population Factor  Congestion Factor  Sprawl Factor  Network Density Factor  \n",
       "0           0.081956           0.180085       0.722163                0.425187  \n",
       "1           0.082267           0.333173       0.539355                0.558910  \n",
       "2           0.248398           0.655464       0.275605                0.410312  \n",
       "3           0.292564           0.624623       0.666710                0.239113  \n",
       "4           0.322960           0.586019       0.791822                0.075617  \n",
       "\n",
       "[5 rows x 79 columns]"
      ]
     },
     "execution_count": 3,
     "metadata": {},
     "output_type": "execute_result"
    }
   ],
   "source": [
    "#Load the dataset.(Reading dataset)\n",
    "df_cities = pd.read_excel('Cities.xls')\n",
    "\n",
    "#Let's take a look at the data.\n",
    "df_cities.head()\n",
    "#df_cities.describe()"
   ]
  },
  {
   "cell_type": "markdown",
   "metadata": {
    "id": "M98fhi3ph4-1"
   },
   "source": [
    "### 1.2 Identify Column Data Types"
   ]
  },
  {
   "cell_type": "markdown",
   "metadata": {
    "id": "1xrv1VUixAGa"
   },
   "source": [
    "> Identifying the data types in the corresponding column of the `cities` data file. This section examine data types and figure out which should be turned into different data types."
   ]
  },
  {
   "cell_type": "code",
   "execution_count": 4,
   "metadata": {
    "colab": {
     "base_uri": "https://localhost:8080/"
    },
    "id": "RuVmnd8TiAA7",
    "outputId": "34a05faa-2f1b-44e1-f01e-9c9334008e5d"
   },
   "outputs": [
    {
     "name": "stdout",
     "output_type": "stream",
     "text": [
      "<class 'pandas.core.frame.DataFrame'>\n",
      "RangeIndex: 331 entries, 0 to 330\n",
      "Data columns (total 79 columns):\n",
      "Unnamed: 0                                         int64\n",
      "City                                               object\n",
      "cityID                                             int64\n",
      "clusterID                                          int64\n",
      "Typology                                           object\n",
      "Country                                            object\n",
      "Car Modeshare (%)                                  float64\n",
      "Public Transit Modeshare (%)                       float64\n",
      "Bicycle Modeshare (%)                              object\n",
      "Walking Modeshare (%)                              float64\n",
      "Gasoline Pump Price (USD/liter)                    float64\n",
      "Road Deaths Rate (per 1000)                        float64\n",
      "Subway Length (km)                                 float64\n",
      "Subway Length Density (per km)                     float64\n",
      "Subway Stations per Hundred Thousand               float64\n",
      "Subway Ridership per Capita                        float64\n",
      "Subway Age (years)                                 int64\n",
      "BRT Length (km)                                    float64\n",
      "BRT System Length Density (per km)                 float64\n",
      "BRT Stations per Hundred Thousand Persons          float64\n",
      "BRT Fleet per Hundred Thousand Persons             float64\n",
      "BRT Annual Ridership per Capita                    float64\n",
      "BRT Age (years)                                    float64\n",
      "Bikeshare Stations                                 object\n",
      "Bikeshare Stations per Hundred Thousand Persons    float64\n",
      "Bikeshare Number of Bikes                          float64\n",
      "Bikeshare Bicycles per Hundred Thousand Persons    float64\n",
      "Bikeshare Age (years)                              float64\n",
      "Congestion (%)                                     float64\n",
      "Congestion AM Peak (%)                             float64\n",
      "Congestion PM Peak (%)                             float64\n",
      "Traffic Index                                      float64\n",
      "Travel Time Index                                  float64\n",
      "Inefficiency Index                                 float64\n",
      "Population                                         int64\n",
      "Land Area (sq. km)                                 int64\n",
      "Population Density (per sq. km)                    int64\n",
      "Population Change 1990 – 2000                      int64\n",
      "Population Change 2000 – 2010                      int64\n",
      "Population Change 2010 – 2020                      int64\n",
      "Population Change 2020 – 2025                      int64\n",
      "Urbanization Rate 2015 (%)                         float64\n",
      "Urbanization Rate Change 2015 – 2025 (pp)          float64\n",
      "GDP per Capita (USD)                               float64\n",
      "Unemployment Rate (%)                              float64\n",
      "Cost of Living Index                               float64\n",
      "Rent Index                                         float64\n",
      "Grocery Index                                      float64\n",
      "Restaurant Price Index                             float64\n",
      "Local Purchasing Power Index                       float64\n",
      "Gini Coefficient                                   float64\n",
      "Poverty Rate (%)                                   float64\n",
      "Life Expectancy (years)                            float64\n",
      "Safety Index                                       float64\n",
      "Internet Penetration                               float64\n",
      "Digital Penetration                                float64\n",
      "Innovation Index                                   float64\n",
      "Smartphone Penetration (%)                         float64\n",
      "CO2 Emissions per Capita (metric tonnes)           float64\n",
      "Pollution Index                                    float64\n",
      "Street length total (m)                            float64\n",
      "Street Length Density (m/sq. km)                   float64\n",
      "Street Length Average (m)                          float64\n",
      "Intersection Count                                 float64\n",
      "Intersection Density (per sq. km)                  float64\n",
      "Degree Average                                     float64\n",
      "Streets per Node                                   float64\n",
      "Circuity                                           float64\n",
      "Self-Loop Proportion                               float64\n",
      "Highway Proportion                                 float64\n",
      "Metro Propensity Factor                            float64\n",
      "BRT Propensity Factor                              float64\n",
      "BikeShare Propensity Factor                        float64\n",
      "Development Factor                                 float64\n",
      "Sustainability Factor                              float64\n",
      "Population Factor                                  float64\n",
      "Congestion Factor                                  float64\n",
      "Sprawl Factor                                      float64\n",
      "Network Density Factor                             float64\n",
      "dtypes: float64(63), int64(11), object(5)\n",
      "memory usage: 204.4+ KB\n"
     ]
    }
   ],
   "source": [
    "pd.set_option('display.max_rows', 500)\n",
    "df_cities.info(null_counts = False)"
   ]
  },
  {
   "cell_type": "markdown",
   "metadata": {
    "id": "YmS1-hDWiRxL"
   },
   "source": [
    "### 1.3 Excluding Irrelevant Columns"
   ]
  },
  {
   "cell_type": "markdown",
   "metadata": {
    "id": "JXkiyJspzf7P"
   },
   "source": [
    "> In order to proceed ahead, we do not consider the columns `Unnamed`, `cityID` and `clusterID` therefore, respective piece of code represents the drop for the corresponding columns"
   ]
  },
  {
   "cell_type": "code",
   "execution_count": 5,
   "metadata": {
    "colab": {
     "base_uri": "https://localhost:8080/",
     "height": 394
    },
    "id": "lBTTU_LmiXgZ",
    "outputId": "1e8def60-aeb5-4c01-9730-dc033cd1ff5a"
   },
   "outputs": [
    {
     "data": {
      "text/html": [
       "<div>\n",
       "<style scoped>\n",
       "    .dataframe tbody tr th:only-of-type {\n",
       "        vertical-align: middle;\n",
       "    }\n",
       "\n",
       "    .dataframe tbody tr th {\n",
       "        vertical-align: top;\n",
       "    }\n",
       "\n",
       "    .dataframe thead th {\n",
       "        text-align: right;\n",
       "    }\n",
       "</style>\n",
       "<table border=\"1\" class=\"dataframe\">\n",
       "  <thead>\n",
       "    <tr style=\"text-align: right;\">\n",
       "      <th></th>\n",
       "      <th>City</th>\n",
       "      <th>Typology</th>\n",
       "      <th>Country</th>\n",
       "      <th>Car Modeshare (%)</th>\n",
       "      <th>Public Transit Modeshare (%)</th>\n",
       "      <th>Bicycle Modeshare (%)</th>\n",
       "      <th>Walking Modeshare (%)</th>\n",
       "      <th>Gasoline Pump Price (USD/liter)</th>\n",
       "      <th>Road Deaths Rate (per 1000)</th>\n",
       "      <th>Subway Length (km)</th>\n",
       "      <th>...</th>\n",
       "      <th>Highway Proportion</th>\n",
       "      <th>Metro Propensity Factor</th>\n",
       "      <th>BRT Propensity Factor</th>\n",
       "      <th>BikeShare Propensity Factor</th>\n",
       "      <th>Development Factor</th>\n",
       "      <th>Sustainability Factor</th>\n",
       "      <th>Population Factor</th>\n",
       "      <th>Congestion Factor</th>\n",
       "      <th>Sprawl Factor</th>\n",
       "      <th>Network Density Factor</th>\n",
       "    </tr>\n",
       "  </thead>\n",
       "  <tbody>\n",
       "    <tr>\n",
       "      <td>0</td>\n",
       "      <td>Baltimore(MD)</td>\n",
       "      <td>Auto Sprawl</td>\n",
       "      <td>United States</td>\n",
       "      <td>85.0</td>\n",
       "      <td>6.1</td>\n",
       "      <td>0.3</td>\n",
       "      <td>2.6</td>\n",
       "      <td>0.66</td>\n",
       "      <td>8.5</td>\n",
       "      <td>24.9</td>\n",
       "      <td>...</td>\n",
       "      <td>0.041018</td>\n",
       "      <td>0.160848</td>\n",
       "      <td>0.176867</td>\n",
       "      <td>0.360637</td>\n",
       "      <td>0.796264</td>\n",
       "      <td>0.355964</td>\n",
       "      <td>0.081956</td>\n",
       "      <td>0.180085</td>\n",
       "      <td>0.722163</td>\n",
       "      <td>0.425187</td>\n",
       "    </tr>\n",
       "    <tr>\n",
       "      <td>1</td>\n",
       "      <td>Melbourne</td>\n",
       "      <td>Auto Innovative</td>\n",
       "      <td>Australia</td>\n",
       "      <td>80.0</td>\n",
       "      <td>14.0</td>\n",
       "      <td>2</td>\n",
       "      <td>4.0</td>\n",
       "      <td>1.11</td>\n",
       "      <td>5.4</td>\n",
       "      <td>0.0</td>\n",
       "      <td>...</td>\n",
       "      <td>0.014489</td>\n",
       "      <td>0.060387</td>\n",
       "      <td>0.168335</td>\n",
       "      <td>0.363675</td>\n",
       "      <td>0.786174</td>\n",
       "      <td>0.397894</td>\n",
       "      <td>0.082267</td>\n",
       "      <td>0.333173</td>\n",
       "      <td>0.539355</td>\n",
       "      <td>0.558910</td>\n",
       "    </tr>\n",
       "    <tr>\n",
       "      <td>2</td>\n",
       "      <td>Niamey</td>\n",
       "      <td>Congested Emerging</td>\n",
       "      <td>Niger</td>\n",
       "      <td>NaN</td>\n",
       "      <td>9.0</td>\n",
       "      <td>2</td>\n",
       "      <td>60.0</td>\n",
       "      <td>1.02</td>\n",
       "      <td>26.4</td>\n",
       "      <td>0.0</td>\n",
       "      <td>...</td>\n",
       "      <td>0.000000</td>\n",
       "      <td>0.036220</td>\n",
       "      <td>0.010915</td>\n",
       "      <td>0.343161</td>\n",
       "      <td>0.000000</td>\n",
       "      <td>0.273646</td>\n",
       "      <td>0.248398</td>\n",
       "      <td>0.655464</td>\n",
       "      <td>0.275605</td>\n",
       "      <td>0.410312</td>\n",
       "    </tr>\n",
       "    <tr>\n",
       "      <td>3</td>\n",
       "      <td>Hanoi</td>\n",
       "      <td>MetroBike Emerging</td>\n",
       "      <td>Vietnam</td>\n",
       "      <td>8.0</td>\n",
       "      <td>10.0</td>\n",
       "      <td>2</td>\n",
       "      <td>NaN</td>\n",
       "      <td>0.90</td>\n",
       "      <td>24.5</td>\n",
       "      <td>0.0</td>\n",
       "      <td>...</td>\n",
       "      <td>0.022938</td>\n",
       "      <td>0.078028</td>\n",
       "      <td>0.084511</td>\n",
       "      <td>0.358868</td>\n",
       "      <td>0.157676</td>\n",
       "      <td>0.509057</td>\n",
       "      <td>0.292564</td>\n",
       "      <td>0.624623</td>\n",
       "      <td>0.666710</td>\n",
       "      <td>0.239113</td>\n",
       "    </tr>\n",
       "    <tr>\n",
       "      <td>4</td>\n",
       "      <td>Urumqi</td>\n",
       "      <td>MetroBike Emerging</td>\n",
       "      <td>China</td>\n",
       "      <td>21.7</td>\n",
       "      <td>54.7</td>\n",
       "      <td>NaN</td>\n",
       "      <td>NaN</td>\n",
       "      <td>1.16</td>\n",
       "      <td>18.8</td>\n",
       "      <td>0.0</td>\n",
       "      <td>...</td>\n",
       "      <td>0.060128</td>\n",
       "      <td>0.103334</td>\n",
       "      <td>0.447261</td>\n",
       "      <td>0.392551</td>\n",
       "      <td>0.287235</td>\n",
       "      <td>0.801464</td>\n",
       "      <td>0.322960</td>\n",
       "      <td>0.586019</td>\n",
       "      <td>0.791822</td>\n",
       "      <td>0.075617</td>\n",
       "    </tr>\n",
       "  </tbody>\n",
       "</table>\n",
       "<p>5 rows × 76 columns</p>\n",
       "</div>"
      ],
      "text/plain": [
       "            City            Typology        Country  Car Modeshare (%)  \\\n",
       "0  Baltimore(MD)         Auto Sprawl  United States               85.0   \n",
       "1      Melbourne     Auto Innovative      Australia               80.0   \n",
       "2         Niamey  Congested Emerging          Niger                NaN   \n",
       "3          Hanoi  MetroBike Emerging        Vietnam                8.0   \n",
       "4         Urumqi  MetroBike Emerging          China               21.7   \n",
       "\n",
       "   Public Transit Modeshare (%) Bicycle Modeshare (%)  Walking Modeshare (%)  \\\n",
       "0                           6.1                   0.3                    2.6   \n",
       "1                          14.0                     2                    4.0   \n",
       "2                           9.0                     2                   60.0   \n",
       "3                          10.0                     2                    NaN   \n",
       "4                          54.7                   NaN                    NaN   \n",
       "\n",
       "   Gasoline Pump Price (USD/liter)  Road Deaths Rate (per 1000)  \\\n",
       "0                             0.66                          8.5   \n",
       "1                             1.11                          5.4   \n",
       "2                             1.02                         26.4   \n",
       "3                             0.90                         24.5   \n",
       "4                             1.16                         18.8   \n",
       "\n",
       "   Subway Length (km)  ...  Highway Proportion  Metro Propensity Factor  \\\n",
       "0                24.9  ...            0.041018                 0.160848   \n",
       "1                 0.0  ...            0.014489                 0.060387   \n",
       "2                 0.0  ...            0.000000                 0.036220   \n",
       "3                 0.0  ...            0.022938                 0.078028   \n",
       "4                 0.0  ...            0.060128                 0.103334   \n",
       "\n",
       "   BRT Propensity Factor  BikeShare Propensity Factor  Development Factor  \\\n",
       "0               0.176867                     0.360637            0.796264   \n",
       "1               0.168335                     0.363675            0.786174   \n",
       "2               0.010915                     0.343161            0.000000   \n",
       "3               0.084511                     0.358868            0.157676   \n",
       "4               0.447261                     0.392551            0.287235   \n",
       "\n",
       "   Sustainability Factor  Population Factor  Congestion Factor  Sprawl Factor  \\\n",
       "0               0.355964           0.081956           0.180085       0.722163   \n",
       "1               0.397894           0.082267           0.333173       0.539355   \n",
       "2               0.273646           0.248398           0.655464       0.275605   \n",
       "3               0.509057           0.292564           0.624623       0.666710   \n",
       "4               0.801464           0.322960           0.586019       0.791822   \n",
       "\n",
       "   Network Density Factor  \n",
       "0                0.425187  \n",
       "1                0.558910  \n",
       "2                0.410312  \n",
       "3                0.239113  \n",
       "4                0.075617  \n",
       "\n",
       "[5 rows x 76 columns]"
      ]
     },
     "execution_count": 5,
     "metadata": {},
     "output_type": "execute_result"
    }
   ],
   "source": [
    "df_cities = df_cities.drop(['Unnamed: 0','cityID','clusterID'],axis = 1)\n",
    "df_cities.head()"
   ]
  },
  {
   "cell_type": "markdown",
   "metadata": {
    "id": "X1SUUj4pjF9v"
   },
   "source": [
    "### 1.4 Rename Columns"
   ]
  },
  {
   "cell_type": "markdown",
   "metadata": {
    "id": "Ai6LijbJ0Avi"
   },
   "source": [
    "> Below piece of code represents the modifiction in the column names of the updated `cities` dataset by replacing spaces with underscore. "
   ]
  },
  {
   "cell_type": "code",
   "execution_count": 6,
   "metadata": {
    "colab": {
     "base_uri": "https://localhost:8080/",
     "height": 326
    },
    "id": "P09e6tiwjFGI",
    "outputId": "5b6ee180-cf45-479f-b46a-555936d3b50d"
   },
   "outputs": [
    {
     "data": {
      "text/html": [
       "<div>\n",
       "<style scoped>\n",
       "    .dataframe tbody tr th:only-of-type {\n",
       "        vertical-align: middle;\n",
       "    }\n",
       "\n",
       "    .dataframe tbody tr th {\n",
       "        vertical-align: top;\n",
       "    }\n",
       "\n",
       "    .dataframe thead th {\n",
       "        text-align: right;\n",
       "    }\n",
       "</style>\n",
       "<table border=\"1\" class=\"dataframe\">\n",
       "  <thead>\n",
       "    <tr style=\"text-align: right;\">\n",
       "      <th></th>\n",
       "      <th>City</th>\n",
       "      <th>Typology</th>\n",
       "      <th>Country</th>\n",
       "      <th>Car_Modeshare</th>\n",
       "      <th>Public_Transit_Modeshare</th>\n",
       "      <th>Bicycle_Modeshare</th>\n",
       "      <th>Walking_Modeshare</th>\n",
       "      <th>Gasoline_Pump_Price</th>\n",
       "      <th>Road_Deaths_Rate</th>\n",
       "      <th>Subway_Length</th>\n",
       "      <th>...</th>\n",
       "      <th>Highway_Proportion</th>\n",
       "      <th>Metro_Propensity_Factor</th>\n",
       "      <th>BRT_Propensity_Factor</th>\n",
       "      <th>BikeShare_Propensity_Factor</th>\n",
       "      <th>Development_Factor</th>\n",
       "      <th>Sustainability_Factor</th>\n",
       "      <th>Population_Factor</th>\n",
       "      <th>Congestion_Factor</th>\n",
       "      <th>Sprawl_Factor</th>\n",
       "      <th>Network_Density_Factor</th>\n",
       "    </tr>\n",
       "  </thead>\n",
       "  <tbody>\n",
       "    <tr>\n",
       "      <td>0</td>\n",
       "      <td>Baltimore(MD)</td>\n",
       "      <td>Auto Sprawl</td>\n",
       "      <td>United States</td>\n",
       "      <td>85.0</td>\n",
       "      <td>6.1</td>\n",
       "      <td>0.3</td>\n",
       "      <td>2.6</td>\n",
       "      <td>0.66</td>\n",
       "      <td>8.5</td>\n",
       "      <td>24.9</td>\n",
       "      <td>...</td>\n",
       "      <td>0.041018</td>\n",
       "      <td>0.160848</td>\n",
       "      <td>0.176867</td>\n",
       "      <td>0.360637</td>\n",
       "      <td>0.796264</td>\n",
       "      <td>0.355964</td>\n",
       "      <td>0.081956</td>\n",
       "      <td>0.180085</td>\n",
       "      <td>0.722163</td>\n",
       "      <td>0.425187</td>\n",
       "    </tr>\n",
       "    <tr>\n",
       "      <td>1</td>\n",
       "      <td>Melbourne</td>\n",
       "      <td>Auto Innovative</td>\n",
       "      <td>Australia</td>\n",
       "      <td>80.0</td>\n",
       "      <td>14.0</td>\n",
       "      <td>2</td>\n",
       "      <td>4.0</td>\n",
       "      <td>1.11</td>\n",
       "      <td>5.4</td>\n",
       "      <td>0.0</td>\n",
       "      <td>...</td>\n",
       "      <td>0.014489</td>\n",
       "      <td>0.060387</td>\n",
       "      <td>0.168335</td>\n",
       "      <td>0.363675</td>\n",
       "      <td>0.786174</td>\n",
       "      <td>0.397894</td>\n",
       "      <td>0.082267</td>\n",
       "      <td>0.333173</td>\n",
       "      <td>0.539355</td>\n",
       "      <td>0.558910</td>\n",
       "    </tr>\n",
       "    <tr>\n",
       "      <td>2</td>\n",
       "      <td>Niamey</td>\n",
       "      <td>Congested Emerging</td>\n",
       "      <td>Niger</td>\n",
       "      <td>NaN</td>\n",
       "      <td>9.0</td>\n",
       "      <td>2</td>\n",
       "      <td>60.0</td>\n",
       "      <td>1.02</td>\n",
       "      <td>26.4</td>\n",
       "      <td>0.0</td>\n",
       "      <td>...</td>\n",
       "      <td>0.000000</td>\n",
       "      <td>0.036220</td>\n",
       "      <td>0.010915</td>\n",
       "      <td>0.343161</td>\n",
       "      <td>0.000000</td>\n",
       "      <td>0.273646</td>\n",
       "      <td>0.248398</td>\n",
       "      <td>0.655464</td>\n",
       "      <td>0.275605</td>\n",
       "      <td>0.410312</td>\n",
       "    </tr>\n",
       "    <tr>\n",
       "      <td>3</td>\n",
       "      <td>Hanoi</td>\n",
       "      <td>MetroBike Emerging</td>\n",
       "      <td>Vietnam</td>\n",
       "      <td>8.0</td>\n",
       "      <td>10.0</td>\n",
       "      <td>2</td>\n",
       "      <td>NaN</td>\n",
       "      <td>0.90</td>\n",
       "      <td>24.5</td>\n",
       "      <td>0.0</td>\n",
       "      <td>...</td>\n",
       "      <td>0.022938</td>\n",
       "      <td>0.078028</td>\n",
       "      <td>0.084511</td>\n",
       "      <td>0.358868</td>\n",
       "      <td>0.157676</td>\n",
       "      <td>0.509057</td>\n",
       "      <td>0.292564</td>\n",
       "      <td>0.624623</td>\n",
       "      <td>0.666710</td>\n",
       "      <td>0.239113</td>\n",
       "    </tr>\n",
       "    <tr>\n",
       "      <td>4</td>\n",
       "      <td>Urumqi</td>\n",
       "      <td>MetroBike Emerging</td>\n",
       "      <td>China</td>\n",
       "      <td>21.7</td>\n",
       "      <td>54.7</td>\n",
       "      <td>NaN</td>\n",
       "      <td>NaN</td>\n",
       "      <td>1.16</td>\n",
       "      <td>18.8</td>\n",
       "      <td>0.0</td>\n",
       "      <td>...</td>\n",
       "      <td>0.060128</td>\n",
       "      <td>0.103334</td>\n",
       "      <td>0.447261</td>\n",
       "      <td>0.392551</td>\n",
       "      <td>0.287235</td>\n",
       "      <td>0.801464</td>\n",
       "      <td>0.322960</td>\n",
       "      <td>0.586019</td>\n",
       "      <td>0.791822</td>\n",
       "      <td>0.075617</td>\n",
       "    </tr>\n",
       "  </tbody>\n",
       "</table>\n",
       "<p>5 rows × 76 columns</p>\n",
       "</div>"
      ],
      "text/plain": [
       "            City            Typology        Country  Car_Modeshare  \\\n",
       "0  Baltimore(MD)         Auto Sprawl  United States           85.0   \n",
       "1      Melbourne     Auto Innovative      Australia           80.0   \n",
       "2         Niamey  Congested Emerging          Niger            NaN   \n",
       "3          Hanoi  MetroBike Emerging        Vietnam            8.0   \n",
       "4         Urumqi  MetroBike Emerging          China           21.7   \n",
       "\n",
       "   Public_Transit_Modeshare Bicycle_Modeshare  Walking_Modeshare  \\\n",
       "0                       6.1               0.3                2.6   \n",
       "1                      14.0                 2                4.0   \n",
       "2                       9.0                 2               60.0   \n",
       "3                      10.0                 2                NaN   \n",
       "4                      54.7               NaN                NaN   \n",
       "\n",
       "   Gasoline_Pump_Price  Road_Deaths_Rate  Subway_Length  ...  \\\n",
       "0                 0.66               8.5           24.9  ...   \n",
       "1                 1.11               5.4            0.0  ...   \n",
       "2                 1.02              26.4            0.0  ...   \n",
       "3                 0.90              24.5            0.0  ...   \n",
       "4                 1.16              18.8            0.0  ...   \n",
       "\n",
       "   Highway_Proportion  Metro_Propensity_Factor  BRT_Propensity_Factor  \\\n",
       "0            0.041018                 0.160848               0.176867   \n",
       "1            0.014489                 0.060387               0.168335   \n",
       "2            0.000000                 0.036220               0.010915   \n",
       "3            0.022938                 0.078028               0.084511   \n",
       "4            0.060128                 0.103334               0.447261   \n",
       "\n",
       "   BikeShare_Propensity_Factor  Development_Factor  Sustainability_Factor  \\\n",
       "0                     0.360637            0.796264               0.355964   \n",
       "1                     0.363675            0.786174               0.397894   \n",
       "2                     0.343161            0.000000               0.273646   \n",
       "3                     0.358868            0.157676               0.509057   \n",
       "4                     0.392551            0.287235               0.801464   \n",
       "\n",
       "   Population_Factor  Congestion_Factor  Sprawl_Factor  Network_Density_Factor  \n",
       "0           0.081956           0.180085       0.722163                0.425187  \n",
       "1           0.082267           0.333173       0.539355                0.558910  \n",
       "2           0.248398           0.655464       0.275605                0.410312  \n",
       "3           0.292564           0.624623       0.666710                0.239113  \n",
       "4           0.322960           0.586019       0.791822                0.075617  \n",
       "\n",
       "[5 rows x 76 columns]"
      ]
     },
     "execution_count": 6,
     "metadata": {},
     "output_type": "execute_result"
    }
   ],
   "source": [
    "\n",
    "def clean_name(name):\n",
    "    name_split = name.split('(')\n",
    "    return name_split[0].strip(\" \").replace(\" \", \"_\")\n",
    "\n",
    "df_cities.rename(columns = clean_name,inplace = True)\n",
    "df_cities.head()"
   ]
  },
  {
   "cell_type": "markdown",
   "metadata": {
    "id": "pfYHWmZnnJbX"
   },
   "source": [
    "### 1.5 Handling Missing Values"
   ]
  },
  {
   "cell_type": "markdown",
   "metadata": {
    "id": "ra9twaDIUSMj"
   },
   "source": [
    "> Evaluating the percentage of **NaN** values from the `cities` dataset just to make sure we have refined data to process further."
   ]
  },
  {
   "cell_type": "code",
   "execution_count": 7,
   "metadata": {
    "colab": {
     "base_uri": "https://localhost:8080/"
    },
    "id": "xkVA_aqtm2pM",
    "outputId": "785942c8-1c72-4c53-e4a0-474ec6a9af4d"
   },
   "outputs": [
    {
     "data": {
      "text/plain": [
       "City                                                0.000000\n",
       "Typology                                            0.000000\n",
       "Country                                             0.000000\n",
       "Car_Modeshare                                      32.326284\n",
       "Public_Transit_Modeshare                           31.419940\n",
       "Bicycle_Modeshare                                  44.108761\n",
       "Walking_Modeshare                                  39.879154\n",
       "Gasoline_Pump_Price                                 0.000000\n",
       "Road_Deaths_Rate                                    0.302115\n",
       "Subway_Length                                       0.000000\n",
       "Subway_Length_Density                               0.000000\n",
       "Subway_Stations_per_Hundred_Thousand                0.000000\n",
       "Subway_Ridership_per_Capita                         0.000000\n",
       "Subway_Age                                          0.000000\n",
       "BRT_Length                                          0.302115\n",
       "BRT_System_Length_Density                           0.604230\n",
       "BRT_Stations_per_Hundred_Thousand_Persons           3.021148\n",
       "BRT_Fleet_per_Hundred_Thousand_Persons              9.365559\n",
       "BRT_Annual_Ridership_per_Capita                     0.302115\n",
       "BRT_Age                                             4.531722\n",
       "Bikeshare_Stations                                  0.906344\n",
       "Bikeshare_Stations_per_Hundred_Thousand_Persons     0.302115\n",
       "Bikeshare_Number_of_Bikes                           5.438066\n",
       "Bikeshare_Bicycles_per_Hundred_Thousand_Persons     4.531722\n",
       "Bikeshare_Age                                       0.906344\n",
       "Congestion                                         50.151057\n",
       "Congestion_AM_Peak                                 50.151057\n",
       "Congestion_PM_Peak                                 50.151057\n",
       "Traffic_Index                                      57.099698\n",
       "Travel_Time_Index                                  57.099698\n",
       "Inefficiency_Index                                 57.099698\n",
       "Population                                          0.000000\n",
       "Land_Area                                           0.000000\n",
       "Population_Density                                  0.000000\n",
       "Population_Change_1990_–_2000                       0.000000\n",
       "Population_Change_2000_–_2010                       0.000000\n",
       "Population_Change_2010_–_2020                       0.000000\n",
       "Population_Change_2020_–_2025                       0.000000\n",
       "Urbanization_Rate_2015                              0.906344\n",
       "Urbanization_Rate_Change_2015_–_2025                0.906344\n",
       "GDP_per_Capita                                      0.000000\n",
       "Unemployment_Rate                                  41.691843\n",
       "Cost_of_Living_Index                               32.628399\n",
       "Rent_Index                                         32.628399\n",
       "Grocery_Index                                      32.628399\n",
       "Restaurant_Price_Index                             32.628399\n",
       "Local_Purchasing_Power_Index                       32.628399\n",
       "Gini_Coefficient                                   31.722054\n",
       "Poverty_Rate                                       41.389728\n",
       "Life_Expectancy                                     0.000000\n",
       "Safety_Index                                       37.462236\n",
       "Internet_Penetration                                0.302115\n",
       "Digital_Penetration                                 2.114804\n",
       "Innovation_Index                                   22.054381\n",
       "Smartphone_Penetration                             33.836858\n",
       "CO2_Emissions_per_Capita                            0.000000\n",
       "Pollution_Index                                    48.640483\n",
       "Street_length_total                                 4.229607\n",
       "Street_Length_Density                               4.229607\n",
       "Street_Length_Average                               4.229607\n",
       "Intersection_Count                                  4.229607\n",
       "Intersection_Density                                4.229607\n",
       "Degree_Average                                      4.229607\n",
       "Streets_per_Node                                    4.229607\n",
       "Circuity                                            4.229607\n",
       "Self-Loop_Proportion                                4.229607\n",
       "Highway_Proportion                                  4.229607\n",
       "Metro_Propensity_Factor                             0.000000\n",
       "BRT_Propensity_Factor                               0.000000\n",
       "BikeShare_Propensity_Factor                         0.000000\n",
       "Development_Factor                                  0.000000\n",
       "Sustainability_Factor                               0.000000\n",
       "Population_Factor                                   0.000000\n",
       "Congestion_Factor                                   0.000000\n",
       "Sprawl_Factor                                       0.000000\n",
       "Network_Density_Factor                              0.000000\n",
       "dtype: float64"
      ]
     },
     "execution_count": 7,
     "metadata": {},
     "output_type": "execute_result"
    }
   ],
   "source": [
    "#Percentage of nans per column\n",
    "df_num = 100* df_cities.isna().sum()/df_cities.shape[0]\n",
    "df_num"
   ]
  },
  {
   "cell_type": "markdown",
   "metadata": {
    "id": "9NoRILv8UpKJ"
   },
   "source": [
    "> It is observed that if a certain column has more than a 50% **NaN** values, model turns out to be non-descriptive and therefore, it is not an ideal situation to save it leading to which, we are considering to discard the respective values. However, if we replace **NaN**s with the mean value of the columns, the feature loses it's descriptive value."
   ]
  },
  {
   "cell_type": "code",
   "execution_count": 8,
   "metadata": {
    "colab": {
     "base_uri": "https://localhost:8080/"
    },
    "id": "Cyn9KLiboHqF",
    "outputId": "9989ec66-6367-4083-851e-831e95dbbd58"
   },
   "outputs": [
    {
     "data": {
      "text/plain": [
       "array(['Congestion', 'Congestion_AM_Peak', 'Congestion_PM_Peak',\n",
       "       'Traffic_Index', 'Travel_Time_Index', 'Inefficiency_Index'],\n",
       "      dtype=object)"
      ]
     },
     "execution_count": 8,
     "metadata": {},
     "output_type": "execute_result"
    }
   ],
   "source": [
    "#If a column has more than a 50% model is non descriptive and cannnot save it/so we discard them\n",
    "#even if we replace nans with a mean value of the columns ,the feature loses its descriptive value.\n",
    "null_lst = df_num[df_num.values >=50].index.values\n",
    "null_lst"
   ]
  },
  {
   "cell_type": "markdown",
   "metadata": {
    "id": "EBItei1FWTvk"
   },
   "source": [
    "> Later, concerning the above hypothesis, we are considering to create a separate array named `null_lst` in order to remove the corresponding columns from the master file as mentioned in the below piece of code.   "
   ]
  },
  {
   "cell_type": "code",
   "execution_count": 9,
   "metadata": {
    "id": "lKRLkTqzW5x5"
   },
   "outputs": [],
   "source": [
    "##drop columns\n",
    "df_cities.drop(null_lst,inplace = True,axis = 1)"
   ]
  },
  {
   "cell_type": "markdown",
   "metadata": {
    "id": "36BG4CnMW_m_"
   },
   "source": [
    "> Now, some of the columns are supposed to be added and manipulated with the respective mean values as mentioned below."
   ]
  },
  {
   "cell_type": "code",
   "execution_count": 10,
   "metadata": {
    "id": "dHbOnFReo1Qx"
   },
   "outputs": [],
   "source": [
    "##fill null values with the mean in its column\n",
    "df_cities.replace(' ',np.nan,inplace=True)\n",
    "df_cities.fillna(df_cities.mean(),inplace = True)"
   ]
  },
  {
   "cell_type": "markdown",
   "metadata": {
    "id": "fcQcc8srvU-0"
   },
   "source": [
    "### 1.6 Creating Continent column"
   ]
  },
  {
   "cell_type": "code",
   "execution_count": 11,
   "metadata": {
    "colab": {
     "base_uri": "https://localhost:8080/",
     "height": 326
    },
    "id": "05afLGG3vcOf",
    "outputId": "aeae6614-8a17-4070-b4cd-a18ba9e3a701"
   },
   "outputs": [
    {
     "data": {
      "text/html": [
       "<div>\n",
       "<style scoped>\n",
       "    .dataframe tbody tr th:only-of-type {\n",
       "        vertical-align: middle;\n",
       "    }\n",
       "\n",
       "    .dataframe tbody tr th {\n",
       "        vertical-align: top;\n",
       "    }\n",
       "\n",
       "    .dataframe thead th {\n",
       "        text-align: right;\n",
       "    }\n",
       "</style>\n",
       "<table border=\"1\" class=\"dataframe\">\n",
       "  <thead>\n",
       "    <tr style=\"text-align: right;\">\n",
       "      <th></th>\n",
       "      <th>City</th>\n",
       "      <th>Typology</th>\n",
       "      <th>Country</th>\n",
       "      <th>Car_Modeshare</th>\n",
       "      <th>Public_Transit_Modeshare</th>\n",
       "      <th>Bicycle_Modeshare</th>\n",
       "      <th>Walking_Modeshare</th>\n",
       "      <th>Gasoline_Pump_Price</th>\n",
       "      <th>Road_Deaths_Rate</th>\n",
       "      <th>Subway_Length</th>\n",
       "      <th>...</th>\n",
       "      <th>Metro_Propensity_Factor</th>\n",
       "      <th>BRT_Propensity_Factor</th>\n",
       "      <th>BikeShare_Propensity_Factor</th>\n",
       "      <th>Development_Factor</th>\n",
       "      <th>Sustainability_Factor</th>\n",
       "      <th>Population_Factor</th>\n",
       "      <th>Congestion_Factor</th>\n",
       "      <th>Sprawl_Factor</th>\n",
       "      <th>Network_Density_Factor</th>\n",
       "      <th>Continent</th>\n",
       "    </tr>\n",
       "  </thead>\n",
       "  <tbody>\n",
       "    <tr>\n",
       "      <td>0</td>\n",
       "      <td>Baltimore(MD)</td>\n",
       "      <td>Auto Sprawl</td>\n",
       "      <td>United States</td>\n",
       "      <td>85.000000</td>\n",
       "      <td>6.1</td>\n",
       "      <td>0.30000</td>\n",
       "      <td>2.600000</td>\n",
       "      <td>0.66</td>\n",
       "      <td>8.5</td>\n",
       "      <td>24.9</td>\n",
       "      <td>...</td>\n",
       "      <td>0.160848</td>\n",
       "      <td>0.176867</td>\n",
       "      <td>0.360637</td>\n",
       "      <td>0.796264</td>\n",
       "      <td>0.355964</td>\n",
       "      <td>0.081956</td>\n",
       "      <td>0.180085</td>\n",
       "      <td>0.722163</td>\n",
       "      <td>0.425187</td>\n",
       "      <td>North America</td>\n",
       "    </tr>\n",
       "    <tr>\n",
       "      <td>1</td>\n",
       "      <td>Melbourne</td>\n",
       "      <td>Auto Innovative</td>\n",
       "      <td>Australia</td>\n",
       "      <td>80.000000</td>\n",
       "      <td>14.0</td>\n",
       "      <td>2.00000</td>\n",
       "      <td>4.000000</td>\n",
       "      <td>1.11</td>\n",
       "      <td>5.4</td>\n",
       "      <td>0.0</td>\n",
       "      <td>...</td>\n",
       "      <td>0.060387</td>\n",
       "      <td>0.168335</td>\n",
       "      <td>0.363675</td>\n",
       "      <td>0.786174</td>\n",
       "      <td>0.397894</td>\n",
       "      <td>0.082267</td>\n",
       "      <td>0.333173</td>\n",
       "      <td>0.539355</td>\n",
       "      <td>0.558910</td>\n",
       "      <td>Oceania</td>\n",
       "    </tr>\n",
       "    <tr>\n",
       "      <td>2</td>\n",
       "      <td>Niamey</td>\n",
       "      <td>Congested Emerging</td>\n",
       "      <td>Niger</td>\n",
       "      <td>47.688694</td>\n",
       "      <td>9.0</td>\n",
       "      <td>2.00000</td>\n",
       "      <td>60.000000</td>\n",
       "      <td>1.02</td>\n",
       "      <td>26.4</td>\n",
       "      <td>0.0</td>\n",
       "      <td>...</td>\n",
       "      <td>0.036220</td>\n",
       "      <td>0.010915</td>\n",
       "      <td>0.343161</td>\n",
       "      <td>0.000000</td>\n",
       "      <td>0.273646</td>\n",
       "      <td>0.248398</td>\n",
       "      <td>0.655464</td>\n",
       "      <td>0.275605</td>\n",
       "      <td>0.410312</td>\n",
       "      <td>Africa</td>\n",
       "    </tr>\n",
       "    <tr>\n",
       "      <td>3</td>\n",
       "      <td>Hanoi</td>\n",
       "      <td>MetroBike Emerging</td>\n",
       "      <td>Vietnam</td>\n",
       "      <td>8.000000</td>\n",
       "      <td>10.0</td>\n",
       "      <td>2.00000</td>\n",
       "      <td>18.270352</td>\n",
       "      <td>0.90</td>\n",
       "      <td>24.5</td>\n",
       "      <td>0.0</td>\n",
       "      <td>...</td>\n",
       "      <td>0.078028</td>\n",
       "      <td>0.084511</td>\n",
       "      <td>0.358868</td>\n",
       "      <td>0.157676</td>\n",
       "      <td>0.509057</td>\n",
       "      <td>0.292564</td>\n",
       "      <td>0.624623</td>\n",
       "      <td>0.666710</td>\n",
       "      <td>0.239113</td>\n",
       "      <td>Asia</td>\n",
       "    </tr>\n",
       "    <tr>\n",
       "      <td>4</td>\n",
       "      <td>Urumqi</td>\n",
       "      <td>MetroBike Emerging</td>\n",
       "      <td>China</td>\n",
       "      <td>21.700000</td>\n",
       "      <td>54.7</td>\n",
       "      <td>5.12587</td>\n",
       "      <td>18.270352</td>\n",
       "      <td>1.16</td>\n",
       "      <td>18.8</td>\n",
       "      <td>0.0</td>\n",
       "      <td>...</td>\n",
       "      <td>0.103334</td>\n",
       "      <td>0.447261</td>\n",
       "      <td>0.392551</td>\n",
       "      <td>0.287235</td>\n",
       "      <td>0.801464</td>\n",
       "      <td>0.322960</td>\n",
       "      <td>0.586019</td>\n",
       "      <td>0.791822</td>\n",
       "      <td>0.075617</td>\n",
       "      <td>Asia</td>\n",
       "    </tr>\n",
       "  </tbody>\n",
       "</table>\n",
       "<p>5 rows × 71 columns</p>\n",
       "</div>"
      ],
      "text/plain": [
       "            City            Typology        Country  Car_Modeshare  \\\n",
       "0  Baltimore(MD)         Auto Sprawl  United States      85.000000   \n",
       "1      Melbourne     Auto Innovative      Australia      80.000000   \n",
       "2         Niamey  Congested Emerging          Niger      47.688694   \n",
       "3          Hanoi  MetroBike Emerging        Vietnam       8.000000   \n",
       "4         Urumqi  MetroBike Emerging          China      21.700000   \n",
       "\n",
       "   Public_Transit_Modeshare  Bicycle_Modeshare  Walking_Modeshare  \\\n",
       "0                       6.1            0.30000           2.600000   \n",
       "1                      14.0            2.00000           4.000000   \n",
       "2                       9.0            2.00000          60.000000   \n",
       "3                      10.0            2.00000          18.270352   \n",
       "4                      54.7            5.12587          18.270352   \n",
       "\n",
       "   Gasoline_Pump_Price  Road_Deaths_Rate  Subway_Length  ...  \\\n",
       "0                 0.66               8.5           24.9  ...   \n",
       "1                 1.11               5.4            0.0  ...   \n",
       "2                 1.02              26.4            0.0  ...   \n",
       "3                 0.90              24.5            0.0  ...   \n",
       "4                 1.16              18.8            0.0  ...   \n",
       "\n",
       "   Metro_Propensity_Factor  BRT_Propensity_Factor  \\\n",
       "0                 0.160848               0.176867   \n",
       "1                 0.060387               0.168335   \n",
       "2                 0.036220               0.010915   \n",
       "3                 0.078028               0.084511   \n",
       "4                 0.103334               0.447261   \n",
       "\n",
       "   BikeShare_Propensity_Factor  Development_Factor  Sustainability_Factor  \\\n",
       "0                     0.360637            0.796264               0.355964   \n",
       "1                     0.363675            0.786174               0.397894   \n",
       "2                     0.343161            0.000000               0.273646   \n",
       "3                     0.358868            0.157676               0.509057   \n",
       "4                     0.392551            0.287235               0.801464   \n",
       "\n",
       "   Population_Factor  Congestion_Factor  Sprawl_Factor  \\\n",
       "0           0.081956           0.180085       0.722163   \n",
       "1           0.082267           0.333173       0.539355   \n",
       "2           0.248398           0.655464       0.275605   \n",
       "3           0.292564           0.624623       0.666710   \n",
       "4           0.322960           0.586019       0.791822   \n",
       "\n",
       "   Network_Density_Factor      Continent  \n",
       "0                0.425187  North America  \n",
       "1                0.558910        Oceania  \n",
       "2                0.410312         Africa  \n",
       "3                0.239113           Asia  \n",
       "4                0.075617           Asia  \n",
       "\n",
       "[5 rows x 71 columns]"
      ]
     },
     "execution_count": 11,
     "metadata": {},
     "output_type": "execute_result"
    }
   ],
   "source": [
    "def country_to_continent(country_name):\n",
    "    country_alpha2 = pc.country_name_to_country_alpha2(country_name)\n",
    "    country_continent_code = pc.country_alpha2_to_continent_code(country_alpha2)\n",
    "    country_continent_name = pc.convert_continent_code_to_continent_name(country_continent_code)\n",
    "    return country_continent_name\n",
    "\n",
    "df_cities['Continent'] = df_cities['Country'].apply(country_to_continent)\n",
    "df_cities.head()\n"
   ]
  },
  {
   "cell_type": "markdown",
   "metadata": {
    "id": "drhfQGgeqtKr"
   },
   "source": [
    "# **2. Prediction Challenge**"
   ]
  },
  {
   "cell_type": "markdown",
   "metadata": {
    "id": "EAkti4qGrpll"
   },
   "source": [
    "## **2.1 PCA Analysis**"
   ]
  },
  {
   "cell_type": "markdown",
   "metadata": {
    "id": "4t2D5kcYJD5y"
   },
   "source": [
    "> Principle Component Analysis (PCA) is performed for dimensional reduction.\n",
    " * Performing *standardization* to scale the available data in such a way that all the variables and their values lie within linear or same range.\n",
    " * Computing *variance matrix* expresses the correlation between different variables in the dataset. It is essential to identify heavily dependent variables because they contain biased and redundant information which reduces the overall performance of the model.\n",
    "\n",
    "\n",
    "\n",
    "\n",
    "\n",
    "\n"
   ]
  },
  {
   "cell_type": "code",
   "execution_count": 12,
   "metadata": {
    "colab": {
     "base_uri": "https://localhost:8080/",
     "height": 301
    },
    "id": "v7QJfjDiruis",
    "outputId": "89807bce-1b8a-44e0-bca2-534e6ae33153"
   },
   "outputs": [
    {
     "data": {
      "image/png": "[encoded data removed]",
      "text/plain": [
       "<Figure size 432x288 with 1 Axes>"
      ]
     },
     "metadata": {},
     "output_type": "display_data"
    }
   ],
   "source": [
    "sns.set()\n",
    "pca=decomposition.PCA()\n",
    "df_pca = pd.get_dummies(df_cities, columns = ['Typology','Continent'])\n",
    "df_pca = df_pca.drop(['Country','City'],axis =1)\n",
    "df_pca = (df_pca-df_pca.mean())/df_pca.std()\n",
    "pca.fit(df_pca)\n",
    "expl=pca.explained_variance_ratio_\n",
    "cdf=[sum(expl[:i+1]) for i in range(len(expl))]\n",
    "plt.xlabel('Numbers of Features')\n",
    "plt.ylabel('Cumulative explained variance ')\n",
    "plt.plot(range(len(expl)),cdf)\n",
    "plt.scatter(60,cdf[60],color = 'red')\n",
    "plt.text(40,0.8,'99% of explained variance')\n",
    "plt.title('PCA Analysis')\n",
    "plt.show()"
   ]
  },
  {
   "cell_type": "markdown",
   "metadata": {
    "id": "sqHuoWmbbzdp"
   },
   "source": [
    "The PCA shows that 99% of the variances can be represented by 60 features. In our predictive models, it is better to choose ML-models that can select important features."
   ]
  },
  {
   "cell_type": "markdown",
   "metadata": {
    "id": "lARpnaIdq56T"
   },
   "source": [
    "## **2.2 Part 1**"
   ]
  },
  {
   "cell_type": "markdown",
   "metadata": {
    "id": "TWiQ7V-BruQs"
   },
   "source": [
    "#### One-hot encoding"
   ]
  },
  {
   "cell_type": "code",
   "execution_count": 13,
   "metadata": {
    "id": "LT888-rMrwlI"
   },
   "outputs": [],
   "source": [
    "df_prediction_one = pd.get_dummies(df_cities, columns = ['Typology','Continent'])"
   ]
  },
  {
   "cell_type": "markdown",
   "metadata": {
    "id": "Hjso1PYKsDZ4"
   },
   "source": [
    "#### Standarization"
   ]
  },
  {
   "cell_type": "code",
   "execution_count": 14,
   "metadata": {
    "id": "y3OO-oTvsGQR"
   },
   "outputs": [],
   "source": [
    "X = df_prediction_one.drop(['CO2_Emissions_per_Capita','Country','City','Pollution_Index'],axis = 1)\n",
    "X = (X-X.mean())/X.std()\n",
    "Y = df_prediction_one['CO2_Emissions_per_Capita']"
   ]
  },
  {
   "cell_type": "markdown",
   "metadata": {
    "id": "ocR_krIMsspe"
   },
   "source": [
    "#### Data split"
   ]
  },
  {
   "cell_type": "code",
   "execution_count": 15,
   "metadata": {
    "colab": {
     "base_uri": "https://localhost:8080/"
    },
    "id": "LMb4H3ZHsCvr",
    "outputId": "51c26cc9-29f4-4e88-f50f-0625f705575b"
   },
   "outputs": [
    {
     "name": "stdout",
     "output_type": "stream",
     "text": [
      "221 110\n"
     ]
    }
   ],
   "source": [
    "X_train, X_test, Y_train, Y_test = train_test_split(X, Y, test_size=0.33,shuffle = False,random_state=0)\n",
    "print(len(X_train),len(X_test))"
   ]
  },
  {
   "cell_type": "markdown",
   "metadata": {
    "id": "Bm-3z1o1s1V8"
   },
   "source": [
    "#### Lasso Model"
   ]
  },
  {
   "cell_type": "code",
   "execution_count": 16,
   "metadata": {
    "colab": {
     "base_uri": "https://localhost:8080/"
    },
    "id": "1S-gEPM2q4oD",
    "outputId": "648625de-abb8-4ede-c420-6cc4c0417715"
   },
   "outputs": [
    {
     "name": "stdout",
     "output_type": "stream",
     "text": [
      "11.7623076139109\n",
      "0.7397657189570506\n"
     ]
    }
   ],
   "source": [
    "regr = LassoCV(cv=10, max_iter=10000)\n",
    "regr.fit(X_train,Y_train)\n",
    "Y_pred = regr.predict(X_test)\n",
    "print(mean_squared_error(Y_test, Y_pred))\n",
    "r2 = r2_score(Y_test, Y_pred)\n",
    "print(r2)"
   ]
  },
  {
   "cell_type": "markdown",
   "metadata": {
    "id": "t2sRVLZuunfZ"
   },
   "source": [
    "## **2.3 Part 2**"
   ]
  },
  {
   "cell_type": "markdown",
   "metadata": {
    "id": "feIiXThI4Q1j"
   },
   "source": [
    "#### One-hot encoding"
   ]
  },
  {
   "cell_type": "code",
   "execution_count": 17,
   "metadata": {
    "id": "bWZ_nY204RhG"
   },
   "outputs": [],
   "source": [
    "df_prediction_two =  df_cities.copy()\n",
    "df_prediction_two = pd.get_dummies(df_prediction_two,columns = ['Typology'])"
   ]
  },
  {
   "cell_type": "markdown",
   "metadata": {
    "id": "xGG9IrtUxFBK"
   },
   "source": [
    "#### Standarization"
   ]
  },
  {
   "cell_type": "code",
   "execution_count": 18,
   "metadata": {
    "id": "fLcbjTchxGup"
   },
   "outputs": [],
   "source": [
    "subset_column_lst = list(df_prediction_two.columns.drop(['Continent','Country','City']))\n",
    "df_prediction_two[subset_column_lst] = df_prediction_two[subset_column_lst].apply(lambda x: (x - x.mean() /x.std()))"
   ]
  },
  {
   "cell_type": "markdown",
   "metadata": {
    "id": "_orQJ_GrwV0e"
   },
   "source": [
    "#### Test, Training data split"
   ]
  },
  {
   "cell_type": "code",
   "execution_count": 19,
   "metadata": {
    "id": "sxWu7BDbwiE9"
   },
   "outputs": [],
   "source": [
    "test = df_prediction_two[(df_prediction_two.Continent == 'North America') | (df_prediction_two.Continent == 'South America')]\n",
    "train = df_prediction_two[~(df_prediction_two.Continent == 'North America') &~(df_prediction_two.Continent == 'South America')]"
   ]
  },
  {
   "cell_type": "markdown",
   "metadata": {
    "id": "HKO40gbi0Bn8"
   },
   "source": [
    "#### Linear Regression Model"
   ]
  },
  {
   "cell_type": "code",
   "execution_count": 20,
   "metadata": {
    "colab": {
     "base_uri": "https://localhost:8080/"
    },
    "id": "PqC8RPjcutwp",
    "outputId": "c78794bc-c75e-427f-ceb1-8427fb2edd9b"
   },
   "outputs": [
    {
     "name": "stdout",
     "output_type": "stream",
     "text": [
      "22.943922245110492 0.6228914625214572\n"
     ]
    }
   ],
   "source": [
    "X_train = train.drop(['CO2_Emissions_per_Capita','Country','City','Continent','Pollution_Index'],axis = 1)\n",
    "\n",
    "y_train = train['CO2_Emissions_per_Capita']\n",
    "\n",
    "\n",
    "X_test = test.drop(['CO2_Emissions_per_Capita','Country','City','Continent','Pollution_Index'],axis = 1)\n",
    "\n",
    "\n",
    "y_test = test['CO2_Emissions_per_Capita']\n",
    "\n",
    "pls = LinearRegression()\n",
    "# pls = PLSRegression(n_components=70)\n",
    "pls.fit(X_train,y_train)\n",
    "y_pred = pls.predict(X_test)\n",
    "print(mean_squared_error(y_test, y_pred), \n",
    "      r2_score(y_test, y_pred))\n"
   ]
  },
  {
   "cell_type": "markdown",
   "metadata": {
    "id": "1qXdT5DJayVE"
   },
   "source": [
    "## **Conclusion**"
   ]
  },
  {
   "cell_type": "markdown",
   "metadata": {
    "id": "cYOH01uR0SGm"
   },
   "source": [
    "Initally, we wanted to state that `generalization` and `transferability` are two very different properties. The goal of any supervised learning predictive model can be thought of as approximating the distribution of some population given a limited sample so that it can predict the target values of unseen data taken from that same population with a small error. This is known as `generalization`. However `transfer learning` concerns an entirely different problem: can a model be trained on a sample taken from one population in such a way that it can achieve a low error rate when predicting on data taken from a `different` population [1]?.\n",
    "\n",
    "Owing to the relatively small amount of training data available to us, and the requirement that the resulting model should not only generalize well, but even transfer to data taken from a different (we can assume, correlated) population, the only realistic models to consider in this case are linear models because of their small amount of degrees of freedom. Models with many parameters, such as DL models, would likely overfit the limited training data and not transfer well to the test set. \n",
    "\n",
    "Following this line of thought, `Linear Regression`, and regularization strategies like the `Lasso` are obvious choices. We found that the `Lasso` model generalizes the best (part 1), whereas the unregularized `Linear Regression` model transferred the best.\n",
    "\n"
   ]
  },
  {
   "cell_type": "markdown",
   "metadata": {
    "id": "5M9jiwqkKvzi"
   },
   "source": [
    "References\n",
    "\n",
    "1. Pan S J, Yang Q. A survey on transfer learning[J]. IEEE Transactions on knowledge and data engineering, 2009, 22(10): 1345-1359.\n"
   ]
  }
 ],
 "metadata": {
  "colab": {
   "collapsed_sections": [],
   "name": "Prediction Challenge.ipynb",
   "provenance": [],
   "toc_visible": true
  },
  "kernelspec": {
   "display_name": "Python 3",
   "language": "python",
   "name": "python3"
  },
  "language_info": {
   "codemirror_mode": {
    "name": "ipython",
    "version": 3
   },
   "file_extension": ".py",
   "mimetype": "text/x-python",
   "name": "python",
   "nbconvert_exporter": "python",
   "pygments_lexer": "ipython3",
   "version": "3.7.4"
  }
 },
 "nbformat": 4,
 "nbformat_minor": 1
}
